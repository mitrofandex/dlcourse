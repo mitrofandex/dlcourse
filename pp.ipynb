{
 "cells": [
  {
   "cell_type": "code",
   "execution_count": 78,
   "metadata": {},
   "outputs": [],
   "source": [
    "import numpy"
   ]
  },
  {
   "cell_type": "code",
   "execution_count": 79,
   "metadata": {},
   "outputs": [],
   "source": [
    "def ones(*shape):\n",
    "    return numpy.ones(shape, dtype=numpy.float32)"
   ]
  },
  {
   "cell_type": "code",
   "execution_count": 80,
   "metadata": {},
   "outputs": [
    {
     "data": {
      "text/plain": [
       "array([[1., 1., 1.],\n",
       "       [1., 1., 1.]], dtype=float32)"
      ]
     },
     "execution_count": 80,
     "metadata": {},
     "output_type": "execute_result"
    }
   ],
   "source": [
    "a = ones(2, 3)\n",
    "a  # print(repr(a))"
   ]
  },
  {
   "cell_type": "code",
   "execution_count": 81,
   "metadata": {},
   "outputs": [
    {
     "name": "stdout",
     "output_type": "stream",
     "text": [
      "[[1. 1. 1.]\n",
      " [1. 1. 1.]]\n"
     ]
    }
   ],
   "source": [
    "print(a)"
   ]
  },
  {
   "cell_type": "code",
   "execution_count": 82,
   "metadata": {},
   "outputs": [
    {
     "name": "stdout",
     "output_type": "stream",
     "text": [
      "[array([[1., 1., 1.],\n",
      "       [1., 1., 1.]], dtype=float32), '+', array([[1., 1., 1.],\n",
      "       [1., 1., 1.]], dtype=float32), '=', array([[2., 2., 2.],\n",
      "       [2., 2., 2.]], dtype=float32)]\n"
     ]
    }
   ],
   "source": [
    "\"\"\"\n",
    "Задача: \n",
    "вывести красиво операцию A + B = C на экран\n",
    "\"\"\"\n",
    "my_input = [ones(2, 3), '+', ones(2, 3), '=', ones(2,3)*2]\n",
    "print(my_input)"
   ]
  },
  {
   "cell_type": "code",
   "execution_count": 83,
   "metadata": {},
   "outputs": [
    {
     "data": {
      "text/plain": [
       "[['[[1. 1. 1.]', ' [1. 1. 1.]]'],\n",
       " ['+'],\n",
       " ['[[1. 1. 1.]', ' [1. 1. 1.]]'],\n",
       " ['='],\n",
       " ['[[2. 2. 2.]', ' [2. 2. 2.]]']]"
      ]
     },
     "execution_count": 83,
     "metadata": {},
     "output_type": "execute_result"
    }
   ],
   "source": [
    "lines = [str(x).split('\\n') for x in my_input]; lines"
   ]
  },
  {
   "cell_type": "code",
   "execution_count": 84,
   "metadata": {},
   "outputs": [
    {
     "name": "stdout",
     "output_type": "stream",
     "text": [
      "[[1 2 3]\n",
      " [4 5 6]]\n"
     ]
    }
   ],
   "source": [
    "a = numpy.arange(1, 7).reshape(2, -1); print(a)"
   ]
  },
  {
   "cell_type": "code",
   "execution_count": 85,
   "metadata": {},
   "outputs": [
    {
     "data": {
      "text/plain": [
       "['[[1 2 3]', ' [4 5 6]]']"
      ]
     },
     "execution_count": 85,
     "metadata": {},
     "output_type": "execute_result"
    }
   ],
   "source": [
    "rows = str(a).split('\\n'); rows"
   ]
  },
  {
   "cell_type": "code",
   "execution_count": 86,
   "metadata": {},
   "outputs": [
    {
     "data": {
      "text/plain": [
       "9"
      ]
     },
     "execution_count": 86,
     "metadata": {},
     "output_type": "execute_result"
    }
   ],
   "source": [
    "width = len(rows[-1]); width"
   ]
  },
  {
   "cell_type": "code",
   "execution_count": 87,
   "metadata": {},
   "outputs": [],
   "source": [
    "empty_row = ' ' * width"
   ]
  },
  {
   "cell_type": "code",
   "execution_count": 88,
   "metadata": {},
   "outputs": [
    {
     "data": {
      "text/plain": [
       "['[[1 2 3] ', ' [4 5 6]]']"
      ]
     },
     "execution_count": 88,
     "metadata": {},
     "output_type": "execute_result"
    }
   ],
   "source": [
    "rows = [row.ljust(width) for row in rows]; rows"
   ]
  },
  {
   "cell_type": "code",
   "execution_count": 89,
   "metadata": {},
   "outputs": [],
   "source": [
    "max_rows = 3"
   ]
  },
  {
   "cell_type": "code",
   "execution_count": 90,
   "metadata": {},
   "outputs": [
    {
     "data": {
      "text/plain": [
       "['[[1 2 3] ', ' [4 5 6]]', '         ']"
      ]
     },
     "execution_count": 90,
     "metadata": {},
     "output_type": "execute_result"
    }
   ],
   "source": [
    "rows.extend([empty_row] * (max_rows - len(rows))); rows"
   ]
  },
  {
   "cell_type": "code",
   "execution_count": 91,
   "metadata": {},
   "outputs": [
    {
     "name": "stdout",
     "output_type": "stream",
     "text": [
      "[[1 2 3] \n",
      " [4 5 6]]\n",
      "         \n"
     ]
    }
   ],
   "source": [
    "print('\\n'.join(rows))"
   ]
  },
  {
   "cell_type": "code",
   "execution_count": 92,
   "metadata": {},
   "outputs": [
    {
     "name": "stdout",
     "output_type": "stream",
     "text": [
      "[[1 2 3] \n",
      " [4 5 6]]\n",
      "         \n",
      "         \n"
     ]
    }
   ],
   "source": [
    "def add_spaces(rows, max_rows):\n",
    "    \n",
    "    width = len(rows[-1])\n",
    "    empty_rows = [' ' * width for _ in range(max_rows - len(rows))]\n",
    "    \n",
    "    rows = [row.ljust(width) for row in rows]\n",
    "    rows.extend(empty_rows)\n",
    "    \n",
    "    return rows\n",
    "\n",
    "\n",
    "rows = str(a).split('\\n')\n",
    "print('\\n'.join(add_spaces(rows, max_rows=4)))"
   ]
  },
  {
   "cell_type": "code",
   "execution_count": 100,
   "metadata": {},
   "outputs": [],
   "source": [
    "def pp(*lst):\n",
    "    lines = [str(x).split('\\n') for x in lst]\n",
    "    max_rows = max(map(len, lines))\n",
    "    \n",
    "    formatted_lines = [add_spaces(rows, max_rows=max_rows) for rows in lines]\n",
    "#     arr = numpy.array(formatted_lines).T\n",
    "#     print('\\n'.join(' '.join(line) for line in arr))\n",
    "    print('\\n'.join(' '.join(line) for line in zip(*formatted_lines)))"
   ]
  },
  {
   "cell_type": "code",
   "execution_count": 101,
   "metadata": {},
   "outputs": [
    {
     "name": "stdout",
     "output_type": "stream",
     "text": [
      "[[1. 1. 1.]  + [[1. 1. 1.]  = [[2. 2. 2.] \n",
      " [1. 1. 1.]]    [1. 1. 1.]]    [2. 2. 2.]]\n"
     ]
    }
   ],
   "source": [
    "pp(*my_input)"
   ]
  },
  {
   "cell_type": "code",
   "execution_count": 103,
   "metadata": {},
   "outputs": [
    {
     "name": "stdout",
     "output_type": "stream",
     "text": [
      "[[ 1  2]  * [[10.         12.22222222]  = [[ 10.          24.44444444] \n",
      " [ 3  4]     [14.44444444 16.66666667]     [ 43.33333333  66.66666667] \n",
      " [ 5  6]     [18.88888889 21.11111111]     [ 94.44444444 126.66666667] \n",
      " [ 7  8]     [23.33333333 25.55555556]     [163.33333333 204.44444444] \n",
      " [ 9 10]]    [27.77777778 30.        ]]    [250.         300.        ]]\n"
     ]
    }
   ],
   "source": [
    "A = numpy.arange(1, 11).reshape(5, 2)\n",
    "B = numpy.linspace(10, 30, 10).reshape(5, 2)\n",
    "R = A * B\n",
    "pp(A, '*', B, '=', R)"
   ]
  },
  {
   "cell_type": "code",
   "execution_count": 104,
   "metadata": {},
   "outputs": [
    {
     "name": "stdout",
     "output_type": "stream",
     "text": [
      "[[ 1  2]  * [[10.         12.22222222]  = [[ 10.          24.44444444] \n",
      " [ 3  4]     [14.44444444 16.66666667]     [ 43.33333333  66.66666667] \n",
      " [ 5  6]     [18.88888889 21.11111111]     [ 94.44444444 126.66666667] \n",
      " [ 7  8]     [23.33333333 25.55555556]     [163.33333333 204.44444444] \n",
      " [ 9 10]]    [27.77777778 30.        ]]    [250.         300.        ]]\n"
     ]
    }
   ],
   "source": [
    "class Op:\n",
    "    def __init__(self, name, func):\n",
    "        self.name = name\n",
    "        self.func = func\n",
    "    \n",
    "    def __call__(self, x, y):\n",
    "        r = self.func(x, y)\n",
    "        pp(x, self.name, y, '=', r)\n",
    "\n",
    "SSum = Op('+', lambda x, y: x + y)\n",
    "SMul = Op('*', lambda x, y: x * y)\n",
    "MMul = Op('@', lambda x, y: x @ y)  # python 3.5+ \n",
    "\n",
    "SMul(A, B)"
   ]
  },
  {
   "cell_type": "code",
   "execution_count": 105,
   "metadata": {},
   "outputs": [
    {
     "name": "stdout",
     "output_type": "stream",
     "text": [
      "[[ 1  3  5  7  9]  @ [[10.         12.22222222]  = [[561.11111111 616.66666667] \n",
      " [ 2  4  6  8 10]]    [14.44444444 16.66666667]     [655.55555556 722.22222222]]\n",
      "                      [18.88888889 21.11111111]                                 \n",
      "                      [23.33333333 25.55555556]                                 \n",
      "                      [27.77777778 30.        ]]                                \n"
     ]
    }
   ],
   "source": [
    "MMul(A.T, B)"
   ]
  }
 ],
 "metadata": {
  "kernelspec": {
   "display_name": "Python 3",
   "language": "python",
   "name": "python3"
  },
  "language_info": {
   "codemirror_mode": {
    "name": "ipython",
    "version": 3
   },
   "file_extension": ".py",
   "mimetype": "text/x-python",
   "name": "python",
   "nbconvert_exporter": "python",
   "pygments_lexer": "ipython3",
   "version": "3.7.0"
  }
 },
 "nbformat": 4,
 "nbformat_minor": 2
}
