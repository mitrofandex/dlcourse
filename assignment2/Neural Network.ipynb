{
 "cells": [
  {
   "cell_type": "markdown",
   "metadata": {},
   "source": [
    "# Задание 2.1 - Нейронные сети\n",
    "\n",
    "В этом задании вы реализуете и натренируете настоящую нейроную сеть своими руками!\n",
    "\n",
    "В некотором смысле это будет расширением прошлого задания - нам нужно просто составить несколько линейных классификаторов вместе!\n",
    "\n",
    "<img src=\"https://i.redd.it/n9fgba8b0qr01.png\" alt=\"Stack_more_layers\" width=\"400px\"/>"
   ]
  },
  {
   "cell_type": "code",
   "execution_count": 1,
   "metadata": {},
   "outputs": [],
   "source": [
    "import numpy as np\n",
    "import matplotlib.pyplot as plt\n",
    "\n",
    "%matplotlib inline\n",
    "\n",
    "%load_ext autoreload\n",
    "%autoreload 2"
   ]
  },
  {
   "cell_type": "code",
   "execution_count": 2,
   "metadata": {},
   "outputs": [],
   "source": [
    "from dataset import load_svhn, random_split_train_val\n",
    "from gradient_check import check_layer_gradient, check_layer_param_gradient, check_model_gradient\n",
    "from layers import FullyConnectedLayer, ReLULayer\n",
    "from model import TwoLayerNet\n",
    "from trainer import Trainer, Dataset\n",
    "from optim import SGD, MomentumSGD\n",
    "from metrics import multiclass_accuracy"
   ]
  },
  {
   "cell_type": "markdown",
   "metadata": {},
   "source": [
    "# Загружаем данные\n",
    "\n",
    "И разделяем их на training и validation."
   ]
  },
  {
   "cell_type": "code",
   "execution_count": 3,
   "metadata": {},
   "outputs": [],
   "source": [
    "def prepare_for_neural_network(train_X, test_X):\n",
    "    train_flat = train_X.reshape(train_X.shape[0], -1).astype(np.float) / 255.0\n",
    "    test_flat = test_X.reshape(test_X.shape[0], -1).astype(np.float) / 255.0\n",
    "    \n",
    "    # Subtract mean\n",
    "    mean_image = np.mean(train_flat, axis = 0)\n",
    "    train_flat -= mean_image\n",
    "    test_flat -= mean_image\n",
    "    \n",
    "    return train_flat, test_flat\n",
    "    \n",
    "train_X, train_y, test_X, test_y = load_svhn(\"data\", max_train=10000, max_test=1000)    \n",
    "train_X, test_X = prepare_for_neural_network(train_X, test_X)\n",
    "# Split train into train and val\n",
    "train_X, train_y, val_X, val_y = random_split_train_val(train_X, train_y, num_val = 1000)"
   ]
  },
  {
   "cell_type": "markdown",
   "metadata": {},
   "source": [
    "# Как всегда, начинаем с кирпичиков\n",
    "\n",
    "Мы будем реализовывать необходимые нам слои по очереди. Каждый слой должен реализовать:\n",
    "- прямой проход (forward pass), который генерирует выход слоя по входу и запоминает необходимые данные\n",
    "- обратный проход (backward pass), который получает градиент по выходу слоя и вычисляет градиент по входу и по параметрам\n",
    "\n",
    "Начнем с ReLU, у которого параметров нет."
   ]
  },
  {
   "cell_type": "code",
   "execution_count": 4,
   "metadata": {
    "scrolled": false
   },
   "outputs": [
    {
     "name": "stdout",
     "output_type": "stream",
     "text": [
      "Gradient check passed!\n"
     ]
    }
   ],
   "source": [
    "# TODO: Implement ReLULayer layer in layers.py\n",
    "# Note: you'll need to copy implementation of the gradient_check function from the previous assignment\n",
    "\n",
    "X = np.array([[1, -2, 3],\n",
    "              [-1, 2, 0.1]\n",
    "              ])\n",
    "\n",
    "assert check_layer_gradient(ReLULayer(), X)"
   ]
  },
  {
   "cell_type": "markdown",
   "metadata": {},
   "source": [
    "А теперь реализуем полносвязный слой (fully connected layer), у которого будет два массива параметров: W (weights) и B (bias).\n",
    "\n",
    "Все параметры наши слои будут использовать для параметров специальный класс `Param`, в котором будут храниться значения параметров и градиенты этих параметров, вычисляемые во время обратного прохода.\n",
    "\n",
    "Это даст возможность аккумулировать (суммировать) градиенты из разных частей функции потерь, например, из cross-entropy loss и regularization loss."
   ]
  },
  {
   "cell_type": "code",
   "execution_count": 5,
   "metadata": {},
   "outputs": [
    {
     "name": "stdout",
     "output_type": "stream",
     "text": [
      "Gradient check passed!\n",
      "Gradient check passed!\n",
      "Gradient check passed!\n"
     ]
    }
   ],
   "source": [
    "# TODO: Implement FullyConnected layer forward and backward methods\n",
    "assert check_layer_gradient(FullyConnectedLayer(3, 4), X)\n",
    "# TODO: Implement storing gradients for W and B\n",
    "assert check_layer_param_gradient(FullyConnectedLayer(3, 4), X, 'W')\n",
    "assert check_layer_param_gradient(FullyConnectedLayer(3, 4), X, 'B')"
   ]
  },
  {
   "cell_type": "markdown",
   "metadata": {},
   "source": [
    "## Создаем нейронную сеть\n",
    "\n",
    "Теперь мы реализуем простейшую нейронную сеть с двумя полносвязным слоями и нелинейностью ReLU. Реализуйте функцию `compute_loss_and_gradients`, она должна запустить прямой и обратный проход через оба слоя для вычисления градиентов.\n",
    "\n",
    "Не забудьте реализовать очистку градиентов в начале функции."
   ]
  },
  {
   "cell_type": "code",
   "execution_count": 93,
   "metadata": {},
   "outputs": [
    {
     "name": "stdout",
     "output_type": "stream",
     "text": [
      "Checking gradient for W1\n",
      "Gradient check passed!\n",
      "Checking gradient for B1\n",
      "Gradient check passed!\n",
      "Checking gradient for W2\n",
      "Gradient check passed!\n",
      "Checking gradient for B2\n",
      "Gradient check passed!\n"
     ]
    },
    {
     "data": {
      "text/plain": [
       "True"
      ]
     },
     "execution_count": 93,
     "metadata": {},
     "output_type": "execute_result"
    }
   ],
   "source": [
    "# TODO: In model.py, implement compute_loss_and_gradients function\n",
    "model = TwoLayerNet(n_input = train_X.shape[1], n_output = 10, hidden_layer_size = 3, reg = 0)\n",
    "loss = model.compute_loss_and_gradients(train_X[:2], train_y[:2])\n",
    "\n",
    "# TODO Now implement backward pass and aggregate all of the params\n",
    "check_model_gradient(model, train_X[:2], train_y[:2])"
   ]
  },
  {
   "cell_type": "markdown",
   "metadata": {},
   "source": [
    "Теперь добавьте к модели регуляризацию - она должна прибавляться к loss и делать свой вклад в градиенты."
   ]
  },
  {
   "cell_type": "code",
   "execution_count": 62,
   "metadata": {},
   "outputs": [],
   "source": [
    "# TODO Now implement l2 regularization in the forward and backward pass\n",
    "model_with_reg = TwoLayerNet(n_input = train_X.shape[1], n_output = 10, hidden_layer_size = 3, reg = 1e1)\n",
    "loss_with_reg = model_with_reg.compute_loss_and_gradients(train_X[:2], train_y[:2])\n",
    "assert loss_with_reg > loss and not np.isclose(loss_with_reg, loss), \\\n",
    "    \"Loss with regularization (%2.4f) should be higher than without it (%2.4f)!\" % (loss, loss_with_reg)\n",
    "\n",
    "# check_model_gradient(model_with_reg, train_X[:2], train_y[:2])"
   ]
  },
  {
   "cell_type": "markdown",
   "metadata": {},
   "source": [
    "Также реализуем функцию предсказания (вычисления значения) модели на новых данных.\n",
    "\n",
    "Какое значение точности мы ожидаем увидеть до начала тренировки?"
   ]
  },
  {
   "cell_type": "code",
   "execution_count": 64,
   "metadata": {},
   "outputs": [
    {
     "data": {
      "text/plain": [
       "0.13333333333333333"
      ]
     },
     "execution_count": 64,
     "metadata": {},
     "output_type": "execute_result"
    }
   ],
   "source": [
    "# Finally, implement predict function!\n",
    "\n",
    "# TODO: Implement predict function\n",
    "# What would be the value we expect?\n",
    "multiclass_accuracy(model_with_reg.predict(train_X[:30]), train_y[:30]) "
   ]
  },
  {
   "cell_type": "markdown",
   "metadata": {},
   "source": [
    "# Допишем код для процесса тренировки"
   ]
  },
  {
   "cell_type": "code",
   "execution_count": 194,
   "metadata": {},
   "outputs": [
    {
     "name": "stdout",
     "output_type": "stream",
     "text": [
      "Epoch 0 -- Loss: 2.084752, Train accuracy: 0.247222, val accuracy: 0.252000\n",
      "Epoch 1 -- Loss: 2.032992, Train accuracy: 0.450333, val accuracy: 0.429000\n",
      "Epoch 2 -- Loss: 1.873418, Train accuracy: 0.518889, val accuracy: 0.505000\n",
      "Epoch 3 -- Loss: 1.762300, Train accuracy: 0.554889, val accuracy: 0.554000\n",
      "Epoch 4 -- Loss: 1.781435, Train accuracy: 0.547444, val accuracy: 0.547000\n",
      "Epoch 5 -- Loss: 1.765458, Train accuracy: 0.562889, val accuracy: 0.567000\n",
      "Epoch 6 -- Loss: 1.639317, Train accuracy: 0.568556, val accuracy: 0.565000\n",
      "Epoch 7 -- Loss: 1.785481, Train accuracy: 0.582111, val accuracy: 0.583000\n",
      "Epoch 8 -- Loss: 1.691486, Train accuracy: 0.590778, val accuracy: 0.594000\n",
      "Epoch 9 -- Loss: 1.952903, Train accuracy: 0.587333, val accuracy: 0.551000\n",
      "Epoch 10 -- Loss: 1.621183, Train accuracy: 0.564667, val accuracy: 0.568000\n",
      "Epoch 11 -- Loss: 1.859847, Train accuracy: 0.579111, val accuracy: 0.580000\n",
      "Epoch 12 -- Loss: 1.656692, Train accuracy: 0.595222, val accuracy: 0.582000\n",
      "Epoch 13 -- Loss: 1.808040, Train accuracy: 0.589889, val accuracy: 0.563000\n",
      "Epoch 14 -- Loss: 1.734058, Train accuracy: 0.601444, val accuracy: 0.611000\n",
      "Epoch 15 -- Loss: 1.432330, Train accuracy: 0.618778, val accuracy: 0.598000\n",
      "Epoch 16 -- Loss: 1.930720, Train accuracy: 0.548556, val accuracy: 0.545000\n",
      "Epoch 17 -- Loss: 1.892465, Train accuracy: 0.507333, val accuracy: 0.495000\n",
      "Epoch 18 -- Loss: 2.024002, Train accuracy: 0.540333, val accuracy: 0.545000\n",
      "Epoch 19 -- Loss: 1.831031, Train accuracy: 0.574444, val accuracy: 0.568000\n"
     ]
    }
   ],
   "source": [
    "model = TwoLayerNet(n_input = train_X.shape[1], n_output = 10, hidden_layer_size = 100, reg = 1e-2)\n",
    "dataset = Dataset(train_X, train_y, val_X, val_y)\n",
    "trainer = Trainer(model, dataset, SGD(), learning_rate=1e-1)\n",
    "\n",
    "# TODO Implement missing pieces in Trainer.fit function\n",
    "# You should expect loss to go down and train and val accuracy go up for every epoch\n",
    "loss_history, train_history, val_history = trainer.fit()"
   ]
  },
  {
   "cell_type": "code",
   "execution_count": 70,
   "metadata": {},
   "outputs": [
    {
     "data": {
      "text/plain": [
       "[<matplotlib.lines.Line2D at 0x28ba64c5160>]"
      ]
     },
     "execution_count": 70,
     "metadata": {},
     "output_type": "execute_result"
    },
    {
     "data": {
      "image/png": "[encoded data removed]",
      "text/plain": [
       "<Figure size 432x288 with 1 Axes>"
      ]
     },
     "metadata": {
      "needs_background": "light"
     },
     "output_type": "display_data"
    }
   ],
   "source": [
    "plt.plot(train_history)\n",
    "plt.plot(val_history)"
   ]
  },
  {
   "cell_type": "markdown",
   "metadata": {},
   "source": [
    "# Улучшаем процесс тренировки\n",
    "\n",
    "Мы реализуем несколько ключевых оптимизаций, необходимых для тренировки современных нейросетей."
   ]
  },
  {
   "cell_type": "markdown",
   "metadata": {},
   "source": [
    "## Уменьшение скорости обучения (learning rate decay)\n",
    "\n",
    "Одна из необходимых оптимизаций во время тренировки нейронных сетей - постепенное уменьшение скорости обучения по мере тренировки.\n",
    "\n",
    "Один из стандартных методов - уменьшение скорости обучения (learning rate) каждые N эпох на коэффициент d (часто называемый decay). Значения N и d, как всегда, являются гиперпараметрами и должны подбираться на основе эффективности на проверочных данных (validation data). \n",
    "\n",
    "В нашем случае N будет равным 1."
   ]
  },
  {
   "cell_type": "code",
   "execution_count": 195,
   "metadata": {},
   "outputs": [
    {
     "name": "stdout",
     "output_type": "stream",
     "text": [
      "Epoch 0 -- Loss: 2.090616, Train accuracy: 0.275000, val accuracy: 0.286000\n",
      "Epoch 1 -- Loss: 1.907026, Train accuracy: 0.400889, val accuracy: 0.440000\n",
      "Epoch 2 -- Loss: 1.850348, Train accuracy: 0.495778, val accuracy: 0.508000\n",
      "Epoch 3 -- Loss: 1.811390, Train accuracy: 0.521333, val accuracy: 0.528000\n",
      "Epoch 4 -- Loss: 1.670871, Train accuracy: 0.523222, val accuracy: 0.522000\n",
      "Epoch 5 -- Loss: 2.007474, Train accuracy: 0.596778, val accuracy: 0.586000\n",
      "Epoch 6 -- Loss: 1.690956, Train accuracy: 0.593778, val accuracy: 0.596000\n",
      "Epoch 7 -- Loss: 2.312451, Train accuracy: 0.602889, val accuracy: 0.603000\n",
      "Epoch 8 -- Loss: 1.980329, Train accuracy: 0.587778, val accuracy: 0.597000\n",
      "Epoch 9 -- Loss: 2.059136, Train accuracy: 0.590111, val accuracy: 0.582000\n",
      "Epoch 10 -- Loss: 1.762179, Train accuracy: 0.536333, val accuracy: 0.536000\n",
      "Epoch 11 -- Loss: 1.886594, Train accuracy: 0.606000, val accuracy: 0.602000\n",
      "Epoch 12 -- Loss: 1.663816, Train accuracy: 0.596778, val accuracy: 0.608000\n",
      "Epoch 13 -- Loss: 2.202530, Train accuracy: 0.571444, val accuracy: 0.585000\n",
      "Epoch 14 -- Loss: 2.111489, Train accuracy: 0.601778, val accuracy: 0.596000\n",
      "Epoch 15 -- Loss: 2.137902, Train accuracy: 0.627111, val accuracy: 0.609000\n",
      "Epoch 16 -- Loss: 1.864367, Train accuracy: 0.614444, val accuracy: 0.614000\n",
      "Epoch 17 -- Loss: 1.731207, Train accuracy: 0.610556, val accuracy: 0.616000\n",
      "Epoch 18 -- Loss: 1.486332, Train accuracy: 0.614556, val accuracy: 0.596000\n",
      "Epoch 19 -- Loss: 1.750731, Train accuracy: 0.613222, val accuracy: 0.596000\n"
     ]
    }
   ],
   "source": [
    "# TODO Implement learning rate decay inside Trainer.fit method\n",
    "# Decay should happen once per epoch\n",
    "\n",
    "model = TwoLayerNet(n_input = train_X.shape[1], n_output = 10, hidden_layer_size = 100, reg = 1e-2)\n",
    "dataset = Dataset(train_X, train_y, val_X, val_y)\n",
    "trainer = Trainer(model, dataset, SGD(), learning_rate_decay=0.99, learning_rate=1e-1)\n",
    "\n",
    "initial_learning_rate = trainer.learning_rate\n",
    "loss_history, train_history, val_history = trainer.fit()\n",
    "\n",
    "assert trainer.learning_rate < initial_learning_rate, \"Learning rate should've been reduced\"\n",
    "assert trainer.learning_rate > 0.5*initial_learning_rate, \"Learning rate shouldn'tve been reduced that much!\""
   ]
  },
  {
   "cell_type": "markdown",
   "metadata": {},
   "source": [
    "# Накопление импульса (Momentum SGD)\n",
    "\n",
    "Другой большой класс оптимизаций - использование более эффективных методов градиентного спуска. Мы реализуем один из них - накопление импульса (Momentum SGD).\n",
    "\n",
    "Этот метод хранит скорость движения, использует градиент для ее изменения на каждом шаге, и изменяет веса пропорционально значению скорости.\n",
    "(Физическая аналогия: Вместо скорости градиенты теперь будут задавать ускорение, но будет присутствовать сила трения.)\n",
    "\n",
    "```\n",
    "velocity = momentum * velocity - learning_rate * gradient \n",
    "w = w + velocity\n",
    "```\n",
    "\n",
    "`momentum` здесь коэффициент затухания, который тоже является гиперпараметром (к счастью, для него часто есть хорошее значение по умолчанию, типичный диапазон -- 0.8-0.99).\n",
    "\n",
    "Несколько полезных ссылок, где метод разбирается более подробно:  \n",
    "http://cs231n.github.io/neural-networks-3/#sgd  \n",
    "https://distill.pub/2017/momentum/"
   ]
  },
  {
   "cell_type": "code",
   "execution_count": 215,
   "metadata": {},
   "outputs": [
    {
     "name": "stdout",
     "output_type": "stream",
     "text": [
      "Epoch 0 -- Loss: 2.072176, Train accuracy: 0.303111, val accuracy: 0.299000\n",
      "Epoch 1 -- Loss: 1.334082, Train accuracy: 0.521000, val accuracy: 0.515000\n",
      "Epoch 2 -- Loss: 1.112879, Train accuracy: 0.618778, val accuracy: 0.630000\n",
      "Epoch 3 -- Loss: 1.371165, Train accuracy: 0.683778, val accuracy: 0.667000\n",
      "Epoch 4 -- Loss: 1.273046, Train accuracy: 0.692667, val accuracy: 0.682000\n",
      "Epoch 5 -- Loss: 0.889134, Train accuracy: 0.726889, val accuracy: 0.706000\n",
      "Epoch 6 -- Loss: 1.470488, Train accuracy: 0.728000, val accuracy: 0.704000\n",
      "Epoch 7 -- Loss: 1.040038, Train accuracy: 0.750111, val accuracy: 0.690000\n",
      "Epoch 8 -- Loss: 1.056243, Train accuracy: 0.735333, val accuracy: 0.679000\n",
      "Epoch 9 -- Loss: 1.722421, Train accuracy: 0.752444, val accuracy: 0.713000\n",
      "Epoch 10 -- Loss: 1.200305, Train accuracy: 0.736778, val accuracy: 0.686000\n",
      "Epoch 11 -- Loss: 1.107190, Train accuracy: 0.790556, val accuracy: 0.709000\n",
      "Epoch 12 -- Loss: 1.110588, Train accuracy: 0.749667, val accuracy: 0.695000\n",
      "Epoch 13 -- Loss: 0.922559, Train accuracy: 0.795444, val accuracy: 0.723000\n",
      "Epoch 14 -- Loss: 0.754085, Train accuracy: 0.760222, val accuracy: 0.677000\n",
      "Epoch 15 -- Loss: 1.094497, Train accuracy: 0.796111, val accuracy: 0.721000\n",
      "Epoch 16 -- Loss: 1.411420, Train accuracy: 0.804444, val accuracy: 0.713000\n",
      "Epoch 17 -- Loss: 1.342219, Train accuracy: 0.823444, val accuracy: 0.733000\n",
      "Epoch 18 -- Loss: 0.730275, Train accuracy: 0.832778, val accuracy: 0.752000\n",
      "Epoch 19 -- Loss: 0.642245, Train accuracy: 0.829000, val accuracy: 0.729000\n"
     ]
    }
   ],
   "source": [
    "# TODO: Implement MomentumSGD.update function in optim.py\n",
    "\n",
    "model = TwoLayerNet(n_input = train_X.shape[1], n_output = 10, hidden_layer_size = 100, reg = 1e-3)\n",
    "dataset = Dataset(train_X, train_y, val_X, val_y)\n",
    "trainer = Trainer(model, dataset, MomentumSGD(), learning_rate=1e-2, learning_rate_decay=0.99)\n",
    "\n",
    "# You should see even better results than before!\n",
    "loss_history, train_history, val_history = trainer.fit()"
   ]
  },
  {
   "cell_type": "markdown",
   "metadata": {},
   "source": [
    "# Ну что, давайте уже тренировать сеть!"
   ]
  },
  {
   "cell_type": "markdown",
   "metadata": {},
   "source": [
    "## Последний тест - переобучимся (overfit) на маленьком наборе данных\n",
    "\n",
    "Хороший способ проверить, все ли реализовано корректно - переобучить сеть на маленьком наборе данных.  \n",
    "Наша модель обладает достаточной мощностью, чтобы приблизить маленький набор данных идеально, поэтому мы ожидаем, что на нем мы быстро дойдем до 100% точности на тренировочном наборе. \n",
    "\n",
    "Если этого не происходит, то где-то была допущена ошибка!"
   ]
  },
  {
   "cell_type": "code",
   "execution_count": 178,
   "metadata": {
    "collapsed": true
   },
   "outputs": [
    {
     "name": "stdout",
     "output_type": "stream",
     "text": [
      "Epoch 0 -- Loss: 2.326562, Train accuracy: 0.200000, val accuracy: 0.133333\n",
      "Epoch 1 -- Loss: 2.320516, Train accuracy: 0.200000, val accuracy: 0.133333\n",
      "Epoch 2 -- Loss: 2.298805, Train accuracy: 0.200000, val accuracy: 0.133333\n",
      "Epoch 3 -- Loss: 2.312076, Train accuracy: 0.200000, val accuracy: 0.133333\n",
      "Epoch 4 -- Loss: 2.254935, Train accuracy: 0.333333, val accuracy: 0.133333\n",
      "Epoch 5 -- Loss: 2.254170, Train accuracy: 0.400000, val accuracy: 0.000000\n",
      "Epoch 6 -- Loss: 1.967769, Train accuracy: 0.400000, val accuracy: 0.000000\n",
      "Epoch 7 -- Loss: 2.360984, Train accuracy: 0.333333, val accuracy: 0.000000\n",
      "Epoch 8 -- Loss: 1.774991, Train accuracy: 0.333333, val accuracy: 0.000000\n",
      "Epoch 9 -- Loss: 1.840185, Train accuracy: 0.333333, val accuracy: 0.000000\n",
      "Epoch 10 -- Loss: 2.649836, Train accuracy: 0.333333, val accuracy: 0.000000\n",
      "Epoch 11 -- Loss: 1.686522, Train accuracy: 0.333333, val accuracy: 0.000000\n",
      "Epoch 12 -- Loss: 1.859028, Train accuracy: 0.400000, val accuracy: 0.000000\n",
      "Epoch 13 -- Loss: 1.784324, Train accuracy: 0.333333, val accuracy: 0.000000\n",
      "Epoch 14 -- Loss: 1.330489, Train accuracy: 0.400000, val accuracy: 0.000000\n",
      "Epoch 15 -- Loss: 1.590655, Train accuracy: 0.400000, val accuracy: 0.000000\n",
      "Epoch 16 -- Loss: 1.795437, Train accuracy: 0.400000, val accuracy: 0.000000\n",
      "Epoch 17 -- Loss: 1.835210, Train accuracy: 0.466667, val accuracy: 0.066667\n",
      "Epoch 18 -- Loss: 1.581600, Train accuracy: 0.466667, val accuracy: 0.000000\n",
      "Epoch 19 -- Loss: 2.073769, Train accuracy: 0.466667, val accuracy: 0.000000\n",
      "Epoch 20 -- Loss: 1.531695, Train accuracy: 0.400000, val accuracy: 0.066667\n",
      "Epoch 21 -- Loss: 1.727000, Train accuracy: 0.400000, val accuracy: 0.066667\n",
      "Epoch 22 -- Loss: 1.783540, Train accuracy: 0.533333, val accuracy: 0.000000\n",
      "Epoch 23 -- Loss: 1.939821, Train accuracy: 0.466667, val accuracy: 0.066667\n",
      "Epoch 24 -- Loss: 1.786638, Train accuracy: 0.466667, val accuracy: 0.000000\n",
      "Epoch 25 -- Loss: 1.934912, Train accuracy: 0.533333, val accuracy: 0.000000\n",
      "Epoch 26 -- Loss: 1.356259, Train accuracy: 0.600000, val accuracy: 0.000000\n",
      "Epoch 27 -- Loss: 2.566744, Train accuracy: 0.600000, val accuracy: 0.066667\n",
      "Epoch 28 -- Loss: 1.385665, Train accuracy: 0.600000, val accuracy: 0.000000\n",
      "Epoch 29 -- Loss: 1.003550, Train accuracy: 0.666667, val accuracy: 0.066667\n",
      "Epoch 30 -- Loss: 2.646629, Train accuracy: 0.533333, val accuracy: 0.000000\n",
      "Epoch 31 -- Loss: 1.329929, Train accuracy: 0.600000, val accuracy: 0.000000\n",
      "Epoch 32 -- Loss: 1.275249, Train accuracy: 0.600000, val accuracy: 0.000000\n",
      "Epoch 33 -- Loss: 0.982827, Train accuracy: 0.666667, val accuracy: 0.000000\n",
      "Epoch 34 -- Loss: 1.048236, Train accuracy: 0.600000, val accuracy: 0.000000\n",
      "Epoch 35 -- Loss: 1.514702, Train accuracy: 0.733333, val accuracy: 0.000000\n",
      "Epoch 36 -- Loss: 2.062605, Train accuracy: 0.733333, val accuracy: 0.133333\n",
      "Epoch 37 -- Loss: 1.541595, Train accuracy: 0.733333, val accuracy: 0.000000\n",
      "Epoch 38 -- Loss: 1.894370, Train accuracy: 0.733333, val accuracy: 0.133333\n",
      "Epoch 39 -- Loss: 1.627926, Train accuracy: 0.733333, val accuracy: 0.133333\n",
      "Epoch 40 -- Loss: 1.388099, Train accuracy: 0.733333, val accuracy: 0.000000\n",
      "Epoch 41 -- Loss: 1.766504, Train accuracy: 0.733333, val accuracy: 0.066667\n",
      "Epoch 42 -- Loss: 2.210618, Train accuracy: 0.733333, val accuracy: 0.066667\n",
      "Epoch 43 -- Loss: 1.584733, Train accuracy: 0.733333, val accuracy: 0.066667\n",
      "Epoch 44 -- Loss: 1.684035, Train accuracy: 0.733333, val accuracy: 0.000000\n",
      "Epoch 45 -- Loss: 1.496463, Train accuracy: 0.733333, val accuracy: 0.000000\n",
      "Epoch 46 -- Loss: 1.426912, Train accuracy: 0.733333, val accuracy: 0.000000\n",
      "Epoch 47 -- Loss: 1.540991, Train accuracy: 0.733333, val accuracy: 0.000000\n",
      "Epoch 48 -- Loss: 2.257532, Train accuracy: 0.600000, val accuracy: 0.000000\n",
      "Epoch 49 -- Loss: 2.102660, Train accuracy: 0.733333, val accuracy: 0.066667\n",
      "Epoch 50 -- Loss: 1.718963, Train accuracy: 0.733333, val accuracy: 0.133333\n",
      "Epoch 51 -- Loss: 1.482464, Train accuracy: 0.800000, val accuracy: 0.066667\n",
      "Epoch 52 -- Loss: 1.619929, Train accuracy: 0.800000, val accuracy: 0.066667\n",
      "Epoch 53 -- Loss: 1.674000, Train accuracy: 0.800000, val accuracy: 0.000000\n",
      "Epoch 54 -- Loss: 1.673999, Train accuracy: 0.800000, val accuracy: 0.000000\n",
      "Epoch 55 -- Loss: 1.826838, Train accuracy: 0.800000, val accuracy: 0.066667\n",
      "Epoch 56 -- Loss: 1.825361, Train accuracy: 0.800000, val accuracy: 0.133333\n",
      "Epoch 57 -- Loss: 1.072189, Train accuracy: 0.800000, val accuracy: 0.133333\n",
      "Epoch 58 -- Loss: 1.501895, Train accuracy: 0.800000, val accuracy: 0.066667\n",
      "Epoch 59 -- Loss: 1.610071, Train accuracy: 0.800000, val accuracy: 0.066667\n",
      "Epoch 60 -- Loss: 0.894665, Train accuracy: 0.800000, val accuracy: 0.066667\n",
      "Epoch 61 -- Loss: 1.646274, Train accuracy: 0.800000, val accuracy: 0.066667\n",
      "Epoch 62 -- Loss: 0.923096, Train accuracy: 0.866667, val accuracy: 0.000000\n",
      "Epoch 63 -- Loss: 1.334055, Train accuracy: 0.866667, val accuracy: 0.133333\n",
      "Epoch 64 -- Loss: 1.533929, Train accuracy: 0.866667, val accuracy: 0.066667\n",
      "Epoch 65 -- Loss: 1.962119, Train accuracy: 0.866667, val accuracy: 0.066667\n",
      "Epoch 66 -- Loss: 1.457128, Train accuracy: 0.933333, val accuracy: 0.000000\n",
      "Epoch 67 -- Loss: 0.952321, Train accuracy: 0.866667, val accuracy: 0.066667\n",
      "Epoch 68 -- Loss: 1.199275, Train accuracy: 0.866667, val accuracy: 0.066667\n",
      "Epoch 69 -- Loss: 1.156545, Train accuracy: 0.933333, val accuracy: 0.133333\n",
      "Epoch 70 -- Loss: 1.043624, Train accuracy: 0.866667, val accuracy: 0.066667\n",
      "Epoch 71 -- Loss: 1.014025, Train accuracy: 0.866667, val accuracy: 0.066667\n",
      "Epoch 72 -- Loss: 1.607857, Train accuracy: 0.933333, val accuracy: 0.000000\n",
      "Epoch 73 -- Loss: 1.074902, Train accuracy: 0.933333, val accuracy: 0.066667\n",
      "Epoch 74 -- Loss: 1.442023, Train accuracy: 0.933333, val accuracy: 0.000000\n",
      "Epoch 75 -- Loss: 1.646868, Train accuracy: 0.933333, val accuracy: 0.000000\n",
      "Epoch 76 -- Loss: 1.252729, Train accuracy: 1.000000, val accuracy: 0.133333\n",
      "Epoch 77 -- Loss: 1.311782, Train accuracy: 0.866667, val accuracy: 0.000000\n",
      "Epoch 78 -- Loss: 1.783173, Train accuracy: 0.933333, val accuracy: 0.066667\n",
      "Epoch 79 -- Loss: 1.271101, Train accuracy: 0.933333, val accuracy: 0.000000\n",
      "Epoch 80 -- Loss: 1.401481, Train accuracy: 0.933333, val accuracy: 0.066667\n",
      "Epoch 81 -- Loss: 1.370778, Train accuracy: 1.000000, val accuracy: 0.133333\n",
      "Epoch 82 -- Loss: 1.221364, Train accuracy: 0.933333, val accuracy: 0.000000\n",
      "Epoch 83 -- Loss: 1.254792, Train accuracy: 0.933333, val accuracy: 0.000000\n",
      "Epoch 84 -- Loss: 1.702904, Train accuracy: 1.000000, val accuracy: 0.000000\n",
      "Epoch 85 -- Loss: 1.377662, Train accuracy: 1.000000, val accuracy: 0.133333\n",
      "Epoch 86 -- Loss: 1.952354, Train accuracy: 1.000000, val accuracy: 0.133333\n",
      "Epoch 87 -- Loss: 1.417936, Train accuracy: 0.866667, val accuracy: 0.000000\n",
      "Epoch 88 -- Loss: 1.863688, Train accuracy: 1.000000, val accuracy: 0.000000\n",
      "Epoch 89 -- Loss: 1.560516, Train accuracy: 1.000000, val accuracy: 0.000000\n",
      "Epoch 90 -- Loss: 1.323894, Train accuracy: 1.000000, val accuracy: 0.000000\n",
      "Epoch 91 -- Loss: 1.794228, Train accuracy: 1.000000, val accuracy: 0.000000\n",
      "Epoch 92 -- Loss: 1.439915, Train accuracy: 1.000000, val accuracy: 0.000000\n",
      "Epoch 93 -- Loss: 1.311506, Train accuracy: 1.000000, val accuracy: 0.000000\n",
      "Epoch 94 -- Loss: 1.141533, Train accuracy: 0.933333, val accuracy: 0.000000\n",
      "Epoch 95 -- Loss: 1.559370, Train accuracy: 0.933333, val accuracy: 0.000000\n",
      "Epoch 96 -- Loss: 1.682727, Train accuracy: 1.000000, val accuracy: 0.000000\n",
      "Epoch 97 -- Loss: 1.342959, Train accuracy: 1.000000, val accuracy: 0.000000\n",
      "Epoch 98 -- Loss: 1.336648, Train accuracy: 1.000000, val accuracy: 0.000000\n",
      "Epoch 99 -- Loss: 1.902690, Train accuracy: 1.000000, val accuracy: 0.000000\n"
     ]
    }
   ],
   "source": [
    "data_size = 15\n",
    "model = TwoLayerNet(n_input = train_X.shape[1], n_output = 10, hidden_layer_size = 100, reg = 1e-1)\n",
    "dataset = Dataset(train_X[:data_size], train_y[:data_size], val_X[:data_size], val_y[:data_size])\n",
    "trainer = Trainer(model, dataset, SGD(), learning_rate=1e-1, num_epochs=100, batch_size=3)\n",
    "\n",
    "# You should expect this to reach 1.0 training accuracy \n",
    "loss_history, train_history, val_history = trainer.fit()"
   ]
  },
  {
   "cell_type": "markdown",
   "metadata": {},
   "source": [
    "Теперь найдем гипепараметры, для которых этот процесс сходится быстрее.\n",
    "Если все реализовано корректно, то существуют параметры, при которых процесс сходится в **20** эпох или еще быстрее.\n",
    "Найдите их!"
   ]
  },
  {
   "cell_type": "code",
   "execution_count": 232,
   "metadata": {},
   "outputs": [
    {
     "name": "stdout",
     "output_type": "stream",
     "text": [
      "Epoch 0 -- Loss: 2.337101, Train accuracy: 0.400000, val accuracy: 0.066667\n",
      "Epoch 1 -- Loss: 2.359802, Train accuracy: 0.333333, val accuracy: 0.000000\n",
      "Epoch 2 -- Loss: 2.282119, Train accuracy: 0.466667, val accuracy: 0.000000\n",
      "Epoch 3 -- Loss: 2.280018, Train accuracy: 0.533333, val accuracy: 0.000000\n",
      "Epoch 4 -- Loss: 1.700171, Train accuracy: 0.400000, val accuracy: 0.000000\n",
      "Epoch 5 -- Loss: 1.379624, Train accuracy: 0.533333, val accuracy: 0.000000\n",
      "Epoch 6 -- Loss: 1.137110, Train accuracy: 0.600000, val accuracy: 0.133333\n",
      "Epoch 7 -- Loss: 1.982313, Train accuracy: 0.600000, val accuracy: 0.133333\n",
      "Epoch 8 -- Loss: 0.585998, Train accuracy: 0.733333, val accuracy: 0.000000\n",
      "Epoch 9 -- Loss: 1.624545, Train accuracy: 0.800000, val accuracy: 0.000000\n",
      "Epoch 10 -- Loss: 0.874815, Train accuracy: 0.866667, val accuracy: 0.000000\n",
      "Epoch 11 -- Loss: 0.950598, Train accuracy: 0.800000, val accuracy: 0.133333\n",
      "Epoch 12 -- Loss: 1.232490, Train accuracy: 0.933333, val accuracy: 0.000000\n",
      "Epoch 13 -- Loss: 0.579112, Train accuracy: 0.866667, val accuracy: 0.000000\n",
      "Epoch 14 -- Loss: 0.802243, Train accuracy: 1.000000, val accuracy: 0.133333\n",
      "Epoch 15 -- Loss: 0.637624, Train accuracy: 1.000000, val accuracy: 0.000000\n",
      "Epoch 16 -- Loss: 0.516678, Train accuracy: 1.000000, val accuracy: 0.000000\n",
      "Epoch 17 -- Loss: 0.316729, Train accuracy: 1.000000, val accuracy: 0.000000\n",
      "Epoch 18 -- Loss: 0.109947, Train accuracy: 1.000000, val accuracy: 0.000000\n",
      "Epoch 19 -- Loss: 0.518860, Train accuracy: 1.000000, val accuracy: 0.000000\n"
     ]
    }
   ],
   "source": [
    "# Now, tweak some hyper parameters and make it train to 1.0 accuracy in 20 epochs or less\n",
    "\n",
    "model = TwoLayerNet(n_input = train_X.shape[1], n_output = 10, hidden_layer_size = 150, reg = 1e-3)\n",
    "dataset = Dataset(train_X[:data_size], train_y[:data_size], val_X[:data_size], val_y[:data_size])\n",
    "# TODO: Change any hyperparamers or optimizators to reach training accuracy in 20 epochs\n",
    "trainer = Trainer(model, dataset, SGD(), learning_rate=1e-1, num_epochs=20, batch_size=3)\n",
    "\n",
    "loss_history, train_history, val_history = trainer.fit()"
   ]
  },
  {
   "cell_type": "markdown",
   "metadata": {},
   "source": [
    "# Итак, основное мероприятие!\n",
    "\n",
    "Натренируйте лучшую нейросеть! Можно добавлять и изменять параметры, менять количество нейронов в слоях сети и как угодно экспериментировать. \n",
    "\n",
    "Добейтесь точности лучше **40%** на validation set."
   ]
  },
  {
   "cell_type": "code",
   "execution_count": 4,
   "metadata": {
    "scrolled": true
   },
   "outputs": [
    {
     "name": "stdout",
     "output_type": "stream",
     "text": [
      "Epoch 0 -- Loss: 2.137341, Train accuracy: 0.429222, val accuracy: 0.453000\n",
      "Epoch 1 -- Loss: 1.619867, Train accuracy: 0.584444, val accuracy: 0.575000\n",
      "Epoch 2 -- Loss: 1.660584, Train accuracy: 0.648667, val accuracy: 0.626000\n",
      "Epoch 3 -- Loss: 1.218745, Train accuracy: 0.696556, val accuracy: 0.673000\n",
      "Epoch 4 -- Loss: 1.377792, Train accuracy: 0.705556, val accuracy: 0.686000\n",
      "Epoch 5 -- Loss: 1.357399, Train accuracy: 0.724778, val accuracy: 0.706000\n",
      "Epoch 6 -- Loss: 1.253490, Train accuracy: 0.750778, val accuracy: 0.721000\n",
      "Epoch 7 -- Loss: 0.978884, Train accuracy: 0.762111, val accuracy: 0.722000\n",
      "Epoch 8 -- Loss: 1.234904, Train accuracy: 0.777444, val accuracy: 0.731000\n",
      "Epoch 9 -- Loss: 1.215875, Train accuracy: 0.784556, val accuracy: 0.720000\n",
      "Epoch 10 -- Loss: 1.204675, Train accuracy: 0.799111, val accuracy: 0.736000\n",
      "Epoch 11 -- Loss: 1.034411, Train accuracy: 0.788444, val accuracy: 0.727000\n",
      "Epoch 12 -- Loss: 1.339513, Train accuracy: 0.790667, val accuracy: 0.731000\n",
      "Epoch 13 -- Loss: 0.831729, Train accuracy: 0.795889, val accuracy: 0.727000\n",
      "Epoch 14 -- Loss: 0.850660, Train accuracy: 0.811111, val accuracy: 0.737000\n",
      "Epoch 15 -- Loss: 0.898303, Train accuracy: 0.818000, val accuracy: 0.747000\n",
      "Epoch 16 -- Loss: 1.029277, Train accuracy: 0.816778, val accuracy: 0.743000\n",
      "Epoch 17 -- Loss: 0.836568, Train accuracy: 0.813556, val accuracy: 0.729000\n",
      "Epoch 18 -- Loss: 0.966352, Train accuracy: 0.846556, val accuracy: 0.747000\n",
      "Epoch 19 -- Loss: 0.664379, Train accuracy: 0.851000, val accuracy: 0.752000\n",
      "Epoch 20 -- Loss: 1.086307, Train accuracy: 0.850333, val accuracy: 0.760000\n",
      "Epoch 21 -- Loss: 0.953360, Train accuracy: 0.847556, val accuracy: 0.748000\n",
      "Epoch 22 -- Loss: 0.587757, Train accuracy: 0.843556, val accuracy: 0.756000\n",
      "Epoch 23 -- Loss: 0.796306, Train accuracy: 0.867444, val accuracy: 0.759000\n",
      "Epoch 24 -- Loss: 0.797269, Train accuracy: 0.868667, val accuracy: 0.753000\n",
      "Epoch 25 -- Loss: 0.869483, Train accuracy: 0.867667, val accuracy: 0.755000\n",
      "Epoch 26 -- Loss: 0.798534, Train accuracy: 0.871444, val accuracy: 0.767000\n",
      "Epoch 27 -- Loss: 0.846763, Train accuracy: 0.881333, val accuracy: 0.765000\n",
      "Epoch 28 -- Loss: 0.839954, Train accuracy: 0.866444, val accuracy: 0.751000\n",
      "Epoch 29 -- Loss: 0.691786, Train accuracy: 0.874333, val accuracy: 0.752000\n",
      "Epoch 30 -- Loss: 0.771196, Train accuracy: 0.879444, val accuracy: 0.763000\n",
      "Epoch 31 -- Loss: 1.028665, Train accuracy: 0.877778, val accuracy: 0.745000\n",
      "Epoch 32 -- Loss: 0.933467, Train accuracy: 0.879000, val accuracy: 0.760000\n",
      "Epoch 33 -- Loss: 0.843848, Train accuracy: 0.882667, val accuracy: 0.765000\n",
      "Epoch 34 -- Loss: 0.801745, Train accuracy: 0.886444, val accuracy: 0.760000\n",
      "Epoch 35 -- Loss: 0.868112, Train accuracy: 0.888444, val accuracy: 0.762000\n",
      "Epoch 36 -- Loss: 0.878028, Train accuracy: 0.878222, val accuracy: 0.753000\n",
      "Epoch 37 -- Loss: 0.922995, Train accuracy: 0.899222, val accuracy: 0.766000\n",
      "Epoch 38 -- Loss: 0.715749, Train accuracy: 0.892333, val accuracy: 0.764000\n",
      "Epoch 39 -- Loss: 0.766454, Train accuracy: 0.895556, val accuracy: 0.767000\n",
      "Epoch 40 -- Loss: 0.673324, Train accuracy: 0.892333, val accuracy: 0.765000\n",
      "Epoch 41 -- Loss: 0.766868, Train accuracy: 0.883778, val accuracy: 0.757000\n",
      "Epoch 42 -- Loss: 0.633083, Train accuracy: 0.893222, val accuracy: 0.775000\n",
      "Epoch 43 -- Loss: 0.771465, Train accuracy: 0.899889, val accuracy: 0.758000\n",
      "Epoch 44 -- Loss: 0.919432, Train accuracy: 0.896889, val accuracy: 0.768000\n",
      "Epoch 45 -- Loss: 0.724833, Train accuracy: 0.891556, val accuracy: 0.764000\n",
      "Epoch 46 -- Loss: 0.800572, Train accuracy: 0.909667, val accuracy: 0.769000\n",
      "Epoch 47 -- Loss: 0.887985, Train accuracy: 0.894778, val accuracy: 0.769000\n",
      "Epoch 48 -- Loss: 0.551918, Train accuracy: 0.888444, val accuracy: 0.758000\n",
      "Epoch 49 -- Loss: 0.782486, Train accuracy: 0.903333, val accuracy: 0.766000\n"
     ]
    }
   ],
   "source": [
    "# Let's train the best one-hidden-layer network we can\n",
    "\n",
    "model_hyper_params = {'reg': 1e-3, 'hidden_layer_size': 128}\n",
    "trainer_hyper_params = {'num_epochs': 50, 'batch_size': 50, 'learning_rate': 1e-2, 'learning_rate_decay': 0.999}\n",
    "\n",
    "best_classifier = None\n",
    "best_val_accuracy = None\n",
    "\n",
    "loss_history = []\n",
    "train_history = []\n",
    "val_history = []\n",
    "\n",
    "# TODO find the best hyperparameters to train the network\n",
    "# Don't hesitate to add new values to the arrays above, perform experiments, use any tricks you want\n",
    "# You should expect to get to at least 40% of valudation accuracy\n",
    "# Save loss/train/history of the best classifier to the variables above\n",
    "model = TwoLayerNet(n_input = train_X.shape[1], n_output = 10, **model_hyper_params)\n",
    "dataset = Dataset(train_X, train_y, val_X, val_y)\n",
    "trainer = Trainer(model, dataset, MomentumSGD(), **trainer_hyper_params)\n",
    "    \n",
    "loss_history, train_history, val_history = trainer.fit()\n",
    "\n",
    "best_classifier = model\n",
    "# print('best validation accuracy achieved: %f' % best_val_accuracy)"
   ]
  },
  {
   "cell_type": "code",
   "execution_count": null,
   "metadata": {},
   "outputs": [],
   "source": [
    "plt.figure(figsize=(15, 7))\n",
    "plt.subplot(211)\n",
    "plt.title(\"Loss\")\n",
    "plt.plot(loss_history)\n",
    "plt.subplot(212)\n",
    "plt.title(\"Train/validation accuracy\")\n",
    "plt.plot(train_history)\n",
    "plt.plot(val_history)"
   ]
  },
  {
   "cell_type": "markdown",
   "metadata": {},
   "source": [
    "# Как обычно, посмотрим, как наша лучшая модель работает на тестовых данных"
   ]
  },
  {
   "cell_type": "code",
   "execution_count": 5,
   "metadata": {},
   "outputs": [
    {
     "name": "stdout",
     "output_type": "stream",
     "text": [
      "Neural net test set accuracy: 0.746000\n"
     ]
    }
   ],
   "source": [
    "test_pred = best_classifier.predict(test_X)\n",
    "test_accuracy = multiclass_accuracy(test_pred, test_y)\n",
    "print('Neural net test set accuracy: %f' % (test_accuracy, ))"
   ]
  }
 ],
 "metadata": {
  "kernelspec": {
   "display_name": "Python 3",
   "language": "python",
   "name": "python3"
  },
  "language_info": {
   "codemirror_mode": {
    "name": "ipython",
    "version": 3
   },
   "file_extension": ".py",
   "mimetype": "text/x-python",
   "name": "python",
   "nbconvert_exporter": "python",
   "pygments_lexer": "ipython3",
   "version": "3.7.0"
  }
 },
 "nbformat": 4,
 "nbformat_minor": 2
}
