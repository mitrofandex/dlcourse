{
 "cells": [
  {
   "cell_type": "markdown",
   "metadata": {
    "colab_type": "text",
    "id": "S5T2mEB-ZvF-"
   },
   "source": [
    "# Массивы"
   ]
  },
  {
   "cell_type": "code",
   "execution_count": 26,
   "metadata": {
    "colab": {},
    "colab_type": "code",
    "id": "s59N8EYR_9bO"
   },
   "outputs": [],
   "source": [
    "import numpy"
   ]
  },
  {
   "cell_type": "code",
   "execution_count": 27,
   "metadata": {
    "colab": {},
    "colab_type": "code",
    "id": "jY0A5RyoAAjw"
   },
   "outputs": [],
   "source": [
    "a = numpy.zeros((2, 3), dtype=numpy.float32)  # ничего не вывело"
   ]
  },
  {
   "cell_type": "code",
   "execution_count": 28,
   "metadata": {
    "colab": {},
    "colab_type": "code",
    "id": "geYTJI96APBa"
   },
   "outputs": [
    {
     "data": {
      "text/plain": [
       "array([[0., 0., 0.],\n",
       "       [0., 0., 0.]], dtype=float32)"
      ]
     },
     "execution_count": 28,
     "metadata": {},
     "output_type": "execute_result"
    }
   ],
   "source": [
    "a  # выведет а, по оси Y левая координата (внешняя), по оси X правая (внутренняя) "
   ]
  },
  {
   "cell_type": "code",
   "execution_count": 29,
   "metadata": {
    "colab": {},
    "colab_type": "code",
    "id": "k87_0_pAAP9N"
   },
   "outputs": [],
   "source": [
    "a;  # не выведет а"
   ]
  },
  {
   "cell_type": "code",
   "execution_count": 30,
   "metadata": {
    "colab": {},
    "colab_type": "code",
    "id": "69_lVpi5HtQ5"
   },
   "outputs": [
    {
     "data": {
      "text/plain": [
       "numpy.ndarray"
      ]
     },
     "execution_count": 30,
     "metadata": {},
     "output_type": "execute_result"
    }
   ],
   "source": [
    "type(a)"
   ]
  },
  {
   "cell_type": "code",
   "execution_count": 31,
   "metadata": {
    "colab": {},
    "colab_type": "code",
    "id": "6qFgWZSIIbHC"
   },
   "outputs": [
    {
     "data": {
      "text/plain": [
       "numpy.ndarray"
      ]
     },
     "execution_count": 31,
     "metadata": {},
     "output_type": "execute_result"
    }
   ],
   "source": [
    "a.__class__"
   ]
  },
  {
   "cell_type": "code",
   "execution_count": 32,
   "metadata": {
    "colab": {},
    "colab_type": "code",
    "id": "4RUgwQgdAR0b"
   },
   "outputs": [
    {
     "data": {
      "text/plain": [
       "array([[[0., 0., 0., 0.],\n",
       "        [0., 0., 0., 0.],\n",
       "        [0., 0., 0., 0.]],\n",
       "\n",
       "       [[0., 0., 0., 0.],\n",
       "        [0., 0., 0., 0.],\n",
       "        [0., 0., 0., 0.]]], dtype=float32)"
      ]
     },
     "execution_count": 32,
     "metadata": {},
     "output_type": "execute_result"
    }
   ],
   "source": [
    "a = numpy.zeros((2, 3, 4), dtype=numpy.float32); a  # выведет новый а, по оси X правая координата, по оси Y -- внешние координаты"
   ]
  },
  {
   "cell_type": "code",
   "execution_count": 33,
   "metadata": {
    "colab": {},
    "colab_type": "code",
    "id": "5L3fS2jPAVFY",
    "scrolled": true
   },
   "outputs": [
    {
     "data": {
      "text/plain": [
       "array([[[1., 1., 1., 1.],\n",
       "        [1., 1., 1., 1.],\n",
       "        [1., 1., 1., 1.]],\n",
       "\n",
       "       [[1., 1., 1., 1.],\n",
       "        [1., 1., 1., 1.],\n",
       "        [1., 1., 1., 1.]]], dtype=float32)"
      ]
     },
     "metadata": {},
     "output_type": "display_data"
    },
    {
     "data": {
      "text/plain": [
       "array([[[2., 2., 2., 2.],\n",
       "        [2., 2., 2., 2.],\n",
       "        [2., 2., 2., 2.]],\n",
       "\n",
       "       [[2., 2., 2., 2.],\n",
       "        [2., 2., 2., 2.],\n",
       "        [2., 2., 2., 2.]]], dtype=float32)"
      ]
     },
     "metadata": {},
     "output_type": "display_data"
    }
   ],
   "source": [
    "a += 1; display(a); a *= 2; display(a);  # сложение со скаляром, умножение на скаляр; display -- вывод с помощью jupyter (colab)"
   ]
  },
  {
   "cell_type": "code",
   "execution_count": 34,
   "metadata": {
    "colab": {},
    "colab_type": "code",
    "id": "0z5eIC8NC8bn"
   },
   "outputs": [],
   "source": [
    "def ones(*shape):\n",
    "    return numpy.ones(shape, dtype=numpy.float32)"
   ]
  },
  {
   "cell_type": "code",
   "execution_count": 35,
   "metadata": {
    "colab": {},
    "colab_type": "code",
    "id": "7-tuzZB_qQZR",
    "scrolled": true
   },
   "outputs": [
    {
     "data": {
      "text/plain": [
       "array([[1., 1., 1.],\n",
       "       [1., 1., 1.]], dtype=float32)"
      ]
     },
     "execution_count": 35,
     "metadata": {},
     "output_type": "execute_result"
    }
   ],
   "source": [
    "ones(2, 3)"
   ]
  },
  {
   "cell_type": "markdown",
   "metadata": {
    "colab_type": "text",
    "id": "DJHEVqDgZzDz"
   },
   "source": [
    "# Задача"
   ]
  },
  {
   "cell_type": "code",
   "execution_count": 36,
   "metadata": {
    "colab": {},
    "colab_type": "code",
    "id": "6I1Rg6xyAfyc"
   },
   "outputs": [
    {
     "name": "stdout",
     "output_type": "stream",
     "text": [
      "[array([[1., 1., 1.],\n",
      "       [1., 1., 1.]], dtype=float32), '+', array([[1., 1., 1.],\n",
      "       [1., 1., 1.]], dtype=float32), '=', array([[2., 2., 2.],\n",
      "       [2., 2., 2.]], dtype=float32)]\n",
      "[[1. 1. 1.]\n",
      " [1. 1. 1.]] + [[1. 1. 1.]\n",
      " [1. 1. 1.]] = [[2. 2. 2.]\n",
      " [2. 2. 2.]]\n"
     ]
    },
    {
     "data": {
      "text/plain": [
       "array([[1., 1., 1.],\n",
       "       [1., 1., 1.]], dtype=float32)"
      ]
     },
     "metadata": {},
     "output_type": "display_data"
    },
    {
     "data": {
      "text/plain": [
       "'+'"
      ]
     },
     "metadata": {},
     "output_type": "display_data"
    },
    {
     "data": {
      "text/plain": [
       "array([[1., 1., 1.],\n",
       "       [1., 1., 1.]], dtype=float32)"
      ]
     },
     "metadata": {},
     "output_type": "display_data"
    },
    {
     "data": {
      "text/plain": [
       "'='"
      ]
     },
     "metadata": {},
     "output_type": "display_data"
    },
    {
     "data": {
      "text/plain": [
       "array([[2., 2., 2.],\n",
       "       [2., 2., 2.]], dtype=float32)"
      ]
     },
     "metadata": {},
     "output_type": "display_data"
    }
   ],
   "source": [
    "\"\"\"\n",
    "Задача: \n",
    "вывести красиво операцию A + B = C на экран\n",
    "\"\"\"\n",
    "my_input = [ones(2, 3), '+', ones(2, 3), '=', ones(2,3)*2]\n",
    "print(my_input)\n",
    "print(*my_input)\n",
    "display(*my_input)"
   ]
  },
  {
   "cell_type": "code",
   "execution_count": 37,
   "metadata": {
    "colab": {},
    "colab_type": "code",
    "id": "cbOUFzTcCv12"
   },
   "outputs": [],
   "source": [
    "# пусть наша функция имеет такой формат:\n",
    "def pp(*lst):\n",
    "    pass\n",
    "pp(*my_input)"
   ]
  },
  {
   "cell_type": "code",
   "execution_count": 38,
   "metadata": {},
   "outputs": [
    {
     "name": "stdout",
     "output_type": "stream",
     "text": [
      "array([[1., 1., 1.],\n",
      "       [1., 1., 1.]], dtype=float32)\n",
      "\n",
      "----------------------------------------\n",
      "\n",
      "'array([[1., 1., 1.],'\n",
      "'       [1., 1., 1.]], dtype=float32)'\n"
     ]
    }
   ],
   "source": [
    "m = ones(2, 3)\n",
    "print(repr(m))\n",
    "\n",
    "print(f\"{'-'*40:\\n^42}\")\n",
    "\n",
    "for element in repr(m).split('\\n'):\n",
    "      print(repr(element))"
   ]
  },
  {
   "cell_type": "code",
   "execution_count": 39,
   "metadata": {
    "colab": {},
    "colab_type": "code",
    "id": "ZUATzsgJEJYE",
    "scrolled": true
   },
   "outputs": [
    {
     "data": {
      "text/plain": [
       "[['array([[1., 1., 1.],', '       [1., 1., 1.]], dtype=float32)'],\n",
       " [\"'+'\"],\n",
       " ['array([[1., 1., 1.],', '       [1., 1., 1.]], dtype=float32)'],\n",
       " [\"'='\"],\n",
       " ['array([[2., 2., 2.],', '       [2., 2., 2.]], dtype=float32)']]"
      ]
     },
     "execution_count": 39,
     "metadata": {},
     "output_type": "execute_result"
    }
   ],
   "source": [
    "lines = [repr(a).split('\\n') for a in my_input]; lines"
   ]
  },
  {
   "cell_type": "code",
   "execution_count": 40,
   "metadata": {},
   "outputs": [
    {
     "name": "stdout",
     "output_type": "stream",
     "text": [
      "[[1. 1. 1.]\n",
      " [1. 1. 1.]]\n"
     ]
    }
   ],
   "source": [
    "print(m)"
   ]
  },
  {
   "cell_type": "code",
   "execution_count": 41,
   "metadata": {
    "colab": {},
    "colab_type": "code",
    "id": "W9FGnSspDegd"
   },
   "outputs": [
    {
     "data": {
      "text/plain": [
       "[['[[1. 1. 1.]', ' [1. 1. 1.]]'],\n",
       " ['+'],\n",
       " ['[[1. 1. 1.]', ' [1. 1. 1.]]'],\n",
       " ['='],\n",
       " ['[[2. 2. 2.]', ' [2. 2. 2.]]']]"
      ]
     },
     "execution_count": 41,
     "metadata": {},
     "output_type": "execute_result"
    }
   ],
   "source": [
    "lines = [str(a).split('\\n') for a in my_input]; lines"
   ]
  },
  {
   "cell_type": "code",
   "execution_count": 42,
   "metadata": {
    "colab": {},
    "colab_type": "code",
    "id": "yiBDcWHKD8Rw"
   },
   "outputs": [
    {
     "data": {
      "text/plain": [
       "2"
      ]
     },
     "execution_count": 42,
     "metadata": {},
     "output_type": "execute_result"
    }
   ],
   "source": [
    "max_lines = max([len(line) for line in lines])\n",
    "max_lines"
   ]
  },
  {
   "cell_type": "code",
   "execution_count": 43,
   "metadata": {
    "colab": {},
    "colab_type": "code",
    "id": "G1WhRCxgNjl9"
   },
   "outputs": [
    {
     "data": {
      "text/plain": [
       "[['[[1. 1. 1.]', ' [1. 1. 1.]]'],\n",
       " ['+', ''],\n",
       " ['[[1. 1. 1.]', ' [1. 1. 1.]]'],\n",
       " ['=', ''],\n",
       " ['[[2. 2. 2.]', ' [2. 2. 2.]]']]"
      ]
     },
     "execution_count": 43,
     "metadata": {},
     "output_type": "execute_result"
    }
   ],
   "source": [
    "lines = [line + ['']*(max_lines-len(line)) for line in lines]; lines"
   ]
  },
  {
   "cell_type": "markdown",
   "metadata": {
    "colab_type": "text",
    "id": "nOmfUeYUaS8U"
   },
   "source": [
    "### транспонирование, reshape, операция получения максимума"
   ]
  },
  {
   "cell_type": "code",
   "execution_count": 44,
   "metadata": {
    "colab": {},
    "colab_type": "code",
    "id": "VfM5D9kMI3O_"
   },
   "outputs": [
    {
     "data": {
      "text/plain": [
       "array([['[[1. 1. 1.]', '+', '[[1. 1. 1.]', '=', '[[2. 2. 2.]'],\n",
       "       [' [1. 1. 1.]]', '', ' [1. 1. 1.]]', '', ' [2. 2. 2.]]']],\n",
       "      dtype='<U12')"
      ]
     },
     "execution_count": 44,
     "metadata": {},
     "output_type": "execute_result"
    }
   ],
   "source": [
    "lines_arr = numpy.array(lines); lines_arr.T"
   ]
  },
  {
   "cell_type": "code",
   "execution_count": 45,
   "metadata": {
    "colab": {},
    "colab_type": "code",
    "id": "hHqZMQZ-I9hi"
   },
   "outputs": [
    {
     "data": {
      "text/plain": [
       "[2, 2, 2, 2, 2]"
      ]
     },
     "metadata": {},
     "output_type": "display_data"
    }
   ],
   "source": [
    "widths = [len(x) for x in lines]; display(widths)"
   ]
  },
  {
   "cell_type": "code",
   "execution_count": 46,
   "metadata": {
    "colab": {},
    "colab_type": "code",
    "id": "adTwt4DKJbeV"
   },
   "outputs": [
    {
     "data": {
      "text/plain": [
       "array(['[[1. 1. 1.]', ' [1. 1. 1.]]', '+', '', '[[1. 1. 1.]',\n",
       "       ' [1. 1. 1.]]', '=', '', '[[2. 2. 2.]', ' [2. 2. 2.]]'],\n",
       "      dtype='<U12')"
      ]
     },
     "execution_count": 46,
     "metadata": {},
     "output_type": "execute_result"
    }
   ],
   "source": [
    "lines_arr.flatten()"
   ]
  },
  {
   "cell_type": "code",
   "execution_count": 47,
   "metadata": {
    "colab": {},
    "colab_type": "code",
    "id": "90FIUhBsKZQF"
   },
   "outputs": [
    {
     "data": {
      "text/plain": [
       "array([11, 12,  1,  0, 11, 12,  1,  0, 11, 12])"
      ]
     },
     "metadata": {},
     "output_type": "display_data"
    },
    {
     "data": {
      "text/plain": [
       "array([[11, 12],\n",
       "       [ 1,  0],\n",
       "       [11, 12],\n",
       "       [ 1,  0],\n",
       "       [11, 12]])"
      ]
     },
     "metadata": {},
     "output_type": "display_data"
    }
   ],
   "source": [
    "widths = numpy.array([len(x) for x in lines_arr.flatten()]); display(widths)\n",
    "widths = widths.reshape(len(lines_arr), -1); display(widths)"
   ]
  },
  {
   "cell_type": "code",
   "execution_count": 48,
   "metadata": {
    "colab": {},
    "colab_type": "code",
    "id": "WEZLTDTrN-pY"
   },
   "outputs": [
    {
     "data": {
      "text/plain": [
       "array([[11, 12],\n",
       "       [ 1,  0],\n",
       "       [11, 12],\n",
       "       [ 1,  0],\n",
       "       [11, 12]])"
      ]
     },
     "metadata": {},
     "output_type": "display_data"
    }
   ],
   "source": [
    "widths = widths.reshape(*lines_arr.shape); display(widths)"
   ]
  },
  {
   "cell_type": "code",
   "execution_count": 49,
   "metadata": {
    "colab": {},
    "colab_type": "code",
    "id": "ye8MODh_KqTp"
   },
   "outputs": [
    {
     "data": {
      "text/plain": [
       "12"
      ]
     },
     "execution_count": 49,
     "metadata": {},
     "output_type": "execute_result"
    }
   ],
   "source": [
    "numpy.max(widths)"
   ]
  },
  {
   "cell_type": "code",
   "execution_count": 50,
   "metadata": {
    "colab": {},
    "colab_type": "code",
    "id": "3kHxU4NeMCs5"
   },
   "outputs": [
    {
     "data": {
      "text/plain": [
       "array([[11, 12],\n",
       "       [ 1,  0],\n",
       "       [11, 12],\n",
       "       [ 1,  0],\n",
       "       [11, 12]])"
      ]
     },
     "execution_count": 50,
     "metadata": {},
     "output_type": "execute_result"
    }
   ],
   "source": [
    "widths"
   ]
  },
  {
   "cell_type": "code",
   "execution_count": 51,
   "metadata": {
    "colab": {},
    "colab_type": "code",
    "id": "JKMecpu7MEBo"
   },
   "outputs": [
    {
     "data": {
      "text/plain": [
       "12"
      ]
     },
     "execution_count": 51,
     "metadata": {},
     "output_type": "execute_result"
    }
   ],
   "source": [
    "widths.max()"
   ]
  },
  {
   "cell_type": "code",
   "execution_count": 52,
   "metadata": {
    "colab": {},
    "colab_type": "code",
    "id": "b-oaY66KMFdq"
   },
   "outputs": [
    {
     "data": {
      "text/plain": [
       "array([12,  1, 12,  1, 12])"
      ]
     },
     "execution_count": 52,
     "metadata": {},
     "output_type": "execute_result"
    }
   ],
   "source": [
    "widths.max(axis=1)  # складывает по внутренней оси, "
   ]
  },
  {
   "cell_type": "code",
   "execution_count": 53,
   "metadata": {
    "colab": {},
    "colab_type": "code",
    "id": "ca2TQmYsMJiK"
   },
   "outputs": [],
   "source": [
    "line_widths = widths.max(axis=1)"
   ]
  },
  {
   "cell_type": "markdown",
   "metadata": {
    "colab_type": "text",
    "id": "ugJhTbxGaHla"
   },
   "source": [
    "### форматирование всё равно придётся делать поэлементно. зашли в тупик..."
   ]
  },
  {
   "cell_type": "code",
   "execution_count": 54,
   "metadata": {
    "colab": {},
    "colab_type": "code",
    "id": "G3btWZgxSM3j"
   },
   "outputs": [
    {
     "data": {
      "text/plain": [
       "2"
      ]
     },
     "execution_count": 54,
     "metadata": {},
     "output_type": "execute_result"
    }
   ],
   "source": [
    "lines = [str(a).split('\\n') for a in my_input]; lines\n",
    "max_lines = max([len(line) for line in lines])\n",
    "max_lines"
   ]
  },
  {
   "cell_type": "code",
   "execution_count": 55,
   "metadata": {
    "colab": {},
    "colab_type": "code",
    "id": "_hgrRixPSWMb"
   },
   "outputs": [
    {
     "name": "stdout",
     "output_type": "stream",
     "text": [
      "[[1 2] \n",
      " [3 4]]\n",
      "       \n"
     ]
    }
   ],
   "source": [
    "def fmt_item(lines, max_lines=0):\n",
    "    max_width = max([len(line) for line in lines])\n",
    "    empty = ' '*max_width\n",
    "    lines = [line.ljust(max_width) for line in lines]\n",
    "    lines += [empty] * (max_lines - len(lines))\n",
    "    return lines    \n",
    "    \n",
    "results = fmt_item(str(numpy.arange(1, 5).reshape(2,-1)).split('\\n'), max_lines=3)\n",
    "print('\\n'.join(results))"
   ]
  },
  {
   "cell_type": "code",
   "execution_count": 56,
   "metadata": {
    "colab": {},
    "colab_type": "code",
    "id": "GTwQu-wR7qX5"
   },
   "outputs": [],
   "source": [
    "# а что делать дальше, когда у нас есть такие массивы? \n",
    "# воспользуемся array().T"
   ]
  },
  {
   "cell_type": "code",
   "execution_count": 57,
   "metadata": {
    "colab": {},
    "colab_type": "code",
    "id": "_etjxroVTCtS"
   },
   "outputs": [
    {
     "name": "stdout",
     "output_type": "stream",
     "text": [
      "[[1. 1. 1.]  + [[1. 1. 1.]  = [[2. 2. 2.] \n",
      " [1. 1. 1.]]    [1. 1. 1.]]    [2. 2. 2.]]\n"
     ]
    }
   ],
   "source": [
    "def pp(*lst):\n",
    "    lines = [str(item).split('\\n') for item in lst]\n",
    "    max_lines = max([len(item) for item in lines])\n",
    "    lines = [fmt_item(item, max_lines=max_lines) for item in lines]\n",
    "    lines_t = numpy.array(lines).T\n",
    "    print('\\n'.join([' '.join(line) for line in lines_t]))\n",
    "    \n",
    "pp(*my_input)\n"
   ]
  },
  {
   "cell_type": "markdown",
   "metadata": {
    "colab_type": "text",
    "id": "aQ9AIQ9hZ_7O"
   },
   "source": [
    "### Попробуем нашу функцию:"
   ]
  },
  {
   "cell_type": "code",
   "execution_count": 58,
   "metadata": {
    "colab": {},
    "colab_type": "code",
    "id": "yROkCSNbEMhs"
   },
   "outputs": [
    {
     "name": "stdout",
     "output_type": "stream",
     "text": [
      "[[ 1  2]  * [[10.         12.22222222]  = [[ 10.          24.44444444] \n",
      " [ 3  4]     [14.44444444 16.66666667]     [ 43.33333333  66.66666667] \n",
      " [ 5  6]     [18.88888889 21.11111111]     [ 94.44444444 126.66666667] \n",
      " [ 7  8]     [23.33333333 25.55555556]     [163.33333333 204.44444444] \n",
      " [ 9 10]]    [27.77777778 30.        ]]    [250.         300.        ]]\n"
     ]
    }
   ],
   "source": [
    "A = numpy.arange(1, 11).reshape(5,2)\n",
    "B = numpy.linspace(10, 30, 10).reshape(5,2)\n",
    "R = A * B\n",
    "pp(A, '*', B, '=', R)"
   ]
  },
  {
   "cell_type": "code",
   "execution_count": 59,
   "metadata": {
    "colab": {},
    "colab_type": "code",
    "id": "RD_lME-dDD6O"
   },
   "outputs": [
    {
     "name": "stdout",
     "output_type": "stream",
     "text": [
      "[[1 2]  + [[5 6]  = [[ 6  8] \n",
      " [3 4]]    [7 8]]    [10 12]]\n"
     ]
    }
   ],
   "source": [
    "import operator\n",
    "#operator.add = lambda x, y: x + y\n",
    "\n",
    "def op(x, name, y, func):\n",
    "    r = func(x, y)\n",
    "    pp(x, name, y, '=', r)\n",
    "    \n",
    "op(numpy.array([[1,2],[3,4]]), '+', numpy.array([[5,6],[7,8]]), operator.add)"
   ]
  },
  {
   "cell_type": "code",
   "execution_count": 60,
   "metadata": {
    "colab": {},
    "colab_type": "code",
    "id": "Jz93V8mSAoe2"
   },
   "outputs": [
    {
     "name": "stdout",
     "output_type": "stream",
     "text": [
      "[[ 1  2]  * [[10.         12.22222222]  = [[ 10.          24.44444444] \n",
      " [ 3  4]     [14.44444444 16.66666667]     [ 43.33333333  66.66666667] \n",
      " [ 5  6]     [18.88888889 21.11111111]     [ 94.44444444 126.66666667] \n",
      " [ 7  8]     [23.33333333 25.55555556]     [163.33333333 204.44444444] \n",
      " [ 9 10]]    [27.77777778 30.        ]]    [250.         300.        ]]\n"
     ]
    }
   ],
   "source": [
    "# вспомним классы, оформим в виде класса\n",
    "class Op:\n",
    "    def __init__(self, name, func):\n",
    "        self.name = name\n",
    "        self.func = func\n",
    "    \n",
    "    def __call__(self, x, y):\n",
    "        r = self.func(x, y)\n",
    "        pp(x, self.name, y, '=', r)\n",
    "\n",
    "SSum = Op('+', lambda x, y: x + y)\n",
    "SMul = Op('*', lambda x, y: x * y)\n",
    "MMul = Op('@', lambda x, y: x @ y)  # python 3.5+ \n",
    "\n",
    "SMul(A, B)"
   ]
  },
  {
   "cell_type": "code",
   "execution_count": 61,
   "metadata": {
    "colab": {},
    "colab_type": "code",
    "id": "v5SZCD5jCjOy"
   },
   "outputs": [
    {
     "name": "stdout",
     "output_type": "stream",
     "text": [
      "[[ 1  3  5  7  9]  @ [[10.         12.22222222]  = [[561.11111111 616.66666667] \n",
      " [ 2  4  6  8 10]]    [14.44444444 16.66666667]     [655.55555556 722.22222222]]\n",
      "                      [18.88888889 21.11111111]                                 \n",
      "                      [23.33333333 25.55555556]                                 \n",
      "                      [27.77777778 30.        ]]                                \n"
     ]
    }
   ],
   "source": [
    "MMul(A.T, B)"
   ]
  },
  {
   "cell_type": "code",
   "execution_count": null,
   "metadata": {
    "colab": {},
    "colab_type": "code",
    "id": "P8faD7ZcTAHJ"
   },
   "outputs": [],
   "source": []
  },
  {
   "cell_type": "markdown",
   "metadata": {
    "colab_type": "text",
    "id": "QxRiSVhsSjqt"
   },
   "source": [
    "# Простая индексация"
   ]
  },
  {
   "cell_type": "code",
   "execution_count": 64,
   "metadata": {
    "colab": {},
    "colab_type": "code",
    "id": "LFCcP2gbEylq"
   },
   "outputs": [
    {
     "name": "stdout",
     "output_type": "stream",
     "text": [
      "[10.] 27.77777777777778 [23.33333333]\n"
     ]
    }
   ],
   "source": [
    "pp(B[0, :1], B[-1,-2], B[-2:-1, 0])"
   ]
  },
  {
   "cell_type": "markdown",
   "metadata": {
    "colab_type": "text",
    "id": "kt4SvIJsRsAB"
   },
   "source": [
    "# Broadcasting и stack"
   ]
  },
  {
   "cell_type": "code",
   "execution_count": 0,
   "metadata": {
    "colab": {},
    "colab_type": "code",
    "id": "QfWzE9HyFYS2"
   },
   "outputs": [],
   "source": [
    "SSum(A, B[0])  # что произойдёт? это преобразование называется broadcasting"
   ]
  },
  {
   "cell_type": "code",
   "execution_count": 0,
   "metadata": {
    "colab": {},
    "colab_type": "code",
    "id": "vp9dN7KhFfYq"
   },
   "outputs": [],
   "source": [
    "SMul(A, B[0])  # смотрим ещё раз, на умножении"
   ]
  },
  {
   "cell_type": "code",
   "execution_count": 0,
   "metadata": {
    "colab": {},
    "colab_type": "code",
    "id": "UbGFHnJuFiYM"
   },
   "outputs": [],
   "source": [
    "SMul(A, numpy.stack(list(B[0:1])*5))"
   ]
  },
  {
   "cell_type": "markdown",
   "metadata": {
    "colab_type": "text",
    "id": "KJf6Qh6cRWzC"
   },
   "source": [
    "# Бинарные и логические операции с массивами"
   ]
  },
  {
   "cell_type": "code",
   "execution_count": 0,
   "metadata": {
    "colab": {},
    "colab_type": "code",
    "id": "Okg0VT9ZF8gF"
   },
   "outputs": [],
   "source": [
    "pp(A, A>3, B, B>=10.) # сравнение float -- дело неточное"
   ]
  },
  {
   "cell_type": "code",
   "execution_count": 0,
   "metadata": {
    "colab": {},
    "colab_type": "code",
    "id": "HoNvY1sIt31t"
   },
   "outputs": [],
   "source": [
    "1<<23"
   ]
  },
  {
   "cell_type": "markdown",
   "metadata": {
    "colab_type": "text",
    "id": "N4_gcEynOrV0"
   },
   "source": [
    "Float 32 format: ![alt text](https://upload.wikimedia.org/wikipedia/commons/thumb/d/d2/Float_example.svg/1180px-Float_example.svg.png) "
   ]
  },
  {
   "cell_type": "code",
   "execution_count": 0,
   "metadata": {
    "colab": {},
    "colab_type": "code",
    "id": "vqjgnb3yGVM9"
   },
   "outputs": [],
   "source": [
    "pp(numpy.isclose(B, 10), (10 - 1e-7 <= B) & (B <= 10 + 1e-7))"
   ]
  },
  {
   "cell_type": "code",
   "execution_count": 0,
   "metadata": {
    "colab": {},
    "colab_type": "code",
    "id": "oPqy7M6nuCEB"
   },
   "outputs": [],
   "source": []
  },
  {
   "cell_type": "code",
   "execution_count": 0,
   "metadata": {
    "colab": {},
    "colab_type": "code",
    "id": "S2tIrfYDRfgr"
   },
   "outputs": [],
   "source": [
    "idx = numpy.isclose(B, 10) | numpy.isclose(B, 30)\n",
    "B[idx]"
   ]
  },
  {
   "cell_type": "markdown",
   "metadata": {
    "colab_type": "text",
    "id": "hPsC5EQBRgsM"
   },
   "source": [
    "# Индексация массивов"
   ]
  },
  {
   "cell_type": "code",
   "execution_count": 0,
   "metadata": {
    "colab": {},
    "colab_type": "code",
    "id": "b4ajbqkvJZ7Q"
   },
   "outputs": [],
   "source": [
    "pp(B)\n",
    "pp(numpy.isclose(B[1:-1, 1:-1], 10))  # классическая индексация питона\n",
    "pp(numpy.isclose(B[0], 10))   # берём первую строку\n",
    "pp(numpy.isclose(B[:, 1], 10))   # берём второй столбец"
   ]
  },
  {
   "cell_type": "markdown",
   "metadata": {
    "colab_type": "text",
    "id": "E6BHYI1qP2ZA"
   },
   "source": [
    "# Cлучайные значения"
   ]
  },
  {
   "cell_type": "code",
   "execution_count": 0,
   "metadata": {
    "colab": {},
    "colab_type": "code",
    "id": "8JxM_NfYHIvb"
   },
   "outputs": [],
   "source": [
    "pp(numpy.random.uniform(0, 1), numpy.random.randn(2, 3), numpy.random.rand(2, 3))"
   ]
  },
  {
   "cell_type": "code",
   "execution_count": 0,
   "metadata": {
    "colab": {},
    "colab_type": "code",
    "id": "AFWlq4tVPVe0"
   },
   "outputs": [],
   "source": [
    "import random\n",
    "random.seed(10)\n",
    "numpy.random.seed(10)\n",
    "nr = numpy.random.uniform(0, 1)\n",
    "nr2 = numpy.random.uniform(0, 1)\n",
    "rr = random.uniform(0, 1)\n",
    "rr2 = random.uniform(0, 1)\n",
    "pp(rr, nr, rr2, nr2)\n",
    "\n",
    "random.seed(10)\n",
    "numpy.random.seed(10)\n",
    "rr = random.uniform(0, 1)\n",
    "nr = numpy.random.uniform(0, 1)\n",
    "rr2 = random.uniform(0, 1)\n",
    "nr2 = numpy.random.uniform(0, 1)\n",
    "pp(rr, nr, rr2, nr2)"
   ]
  },
  {
   "cell_type": "code",
   "execution_count": 0,
   "metadata": {
    "colab": {},
    "colab_type": "code",
    "id": "G4VN9KlmU16k"
   },
   "outputs": [],
   "source": [
    "import matplotlib\n",
    "# значение по умолчанию в colab, но не в локальных ноутбуках\n",
    "matplotlib.rcParams['axes.grid'] = True\n",
    "\n",
    "import matplotlib.pyplot as plt\n",
    "# нарисуем график для 11 случайных нормально распределённых чисел.\n",
    "x = numpy.linspace(0, 10, 11)\n",
    "dots = numpy.random.randn(11)\n",
    "plt.plot(x, dots);"
   ]
  },
  {
   "cell_type": "code",
   "execution_count": 0,
   "metadata": {
    "colab": {},
    "colab_type": "code",
    "id": "YG61yWFRQC4_"
   },
   "outputs": [],
   "source": [
    "import matplotlib\n",
    "matplotlib.rcParams['axes.grid'] = False  # убираем белую клетку (настройки colab)\n",
    "\n",
    "import matplotlib.pyplot as plt\n",
    "plt.plot(x, dots);  # рисуем линию ещё раз"
   ]
  },
  {
   "cell_type": "code",
   "execution_count": 0,
   "metadata": {
    "colab": {},
    "colab_type": "code",
    "id": "jtANKp8mT2Va"
   },
   "outputs": [],
   "source": [
    "# если надо просто вывести точки, без линий между ними\n",
    "plt.scatter(x, dots);"
   ]
  },
  {
   "cell_type": "code",
   "execution_count": 0,
   "metadata": {
    "colab": {},
    "colab_type": "code",
    "id": "TR1UodU-T_AI"
   },
   "outputs": [],
   "source": [
    "# выводим двумерный массив, используя цветовую схему 'hot'.\n",
    "# matplotlib автоматически определяет минимум и максимум\n",
    "# по нему настраивает цвета\n",
    "plt.imshow(numpy.arange(0, 120).reshape(6, 20), 'hot');"
   ]
  },
  {
   "cell_type": "markdown",
   "metadata": {
    "colab_type": "text",
    "id": "vu_xEninXHlS"
   },
   "source": [
    "# Строки и словари"
   ]
  },
  {
   "cell_type": "code",
   "execution_count": 0,
   "metadata": {
    "colab": {},
    "colab_type": "code",
    "id": "BLk5yKFqUYtW"
   },
   "outputs": [],
   "source": [
    "# Задача: определить, какой символ встречается чаще всего в данном тексте,\n",
    "# не считая пробелов!\n",
    "a = \"Кот сидел на крыше тише мыши\"\n",
    "pp(set(list(a)))"
   ]
  },
  {
   "cell_type": "code",
   "execution_count": 0,
   "metadata": {
    "colab": {},
    "colab_type": "code",
    "id": "j_4zX9MPWtxE"
   },
   "outputs": [],
   "source": [
    "from collections import Counter\n",
    "# приближённое решение.\n",
    "Counter(list(a)).most_common()\n",
    "# убрать пробел и будет то, что надо. попробуйте сами."
   ]
  },
  {
   "cell_type": "code",
   "execution_count": 0,
   "metadata": {
    "colab": {},
    "colab_type": "code",
    "id": "MlIdvUxCXSjG"
   },
   "outputs": [],
   "source": [
    "# напишем вручную код аналогичный тому, что происходит внутри Counter\n",
    "counter = {}\n",
    "for ch in list(a.lower()):\n",
    "    if ch == ' ': continue\n",
    "    if ch in counter:\n",
    "        counter[ch] += 1\n",
    "    else:\n",
    "        counter[ch] = 1\n",
    "    \n",
    "pp(counter)"
   ]
  },
  {
   "cell_type": "code",
   "execution_count": 0,
   "metadata": {
    "colab": {},
    "colab_type": "code",
    "id": "lQ5p5DaUYobm"
   },
   "outputs": [],
   "source": [
    "pp(type(ch))  # в питоне даже отдельные символы -- это строчки"
   ]
  },
  {
   "cell_type": "code",
   "execution_count": 0,
   "metadata": {
    "colab": {},
    "colab_type": "code",
    "id": "dEnQFr0HYq7B"
   },
   "outputs": [],
   "source": [
    "max(counter.values())  # нашли максимум"
   ]
  },
  {
   "cell_type": "code",
   "execution_count": 0,
   "metadata": {
    "colab": {},
    "colab_type": "code",
    "id": "bPTUMoS9Y9B1"
   },
   "outputs": [],
   "source": [
    "# алгоритм для поиска максимума\n",
    "winner_ch = None\n",
    "winner_count = 0\n",
    "for ch, count in counter.items():\n",
    "  if count > winner_count:\n",
    "      winner_count = count\n",
    "      winner_ch = ch\n",
    "print(winner_ch, winner_count)  # и вот наш символ-победитель\n",
    "# имейте в виду, победителя на самом деле три.\n",
    "# исправьте код, чтобы вывести и второй и третий."
   ]
  },
  {
   "cell_type": "markdown",
   "metadata": {
    "colab_type": "text",
    "id": "v9z_Gk9nfWPK"
   },
   "source": [
    " ---"
   ]
  },
  {
   "cell_type": "markdown",
   "metadata": {
    "colab_type": "text",
    "id": "QZ_Q6UjSgFW8"
   },
   "source": [
    "---"
   ]
  },
  {
   "cell_type": "markdown",
   "metadata": {
    "colab_type": "text",
    "id": "-YCzFzgcgGdY"
   },
   "source": [
    "---"
   ]
  },
  {
   "cell_type": "code",
   "execution_count": 0,
   "metadata": {
    "colab": {
     "base_uri": "https://localhost:8080/",
     "height": 102
    },
    "colab_type": "code",
    "id": "lR7Q4Mp5gZox",
    "outputId": "b2d23d1f-8c72-4fee-c0b7-47bdc9e67741"
   },
   "outputs": [
    {
     "data": {
      "text/plain": [
       "array([[ 1,  2],\n",
       "       [ 3,  4],\n",
       "       [ 5,  6],\n",
       "       [ 7,  8],\n",
       "       [ 9, 10]])"
      ]
     },
     "execution_count": 83,
     "metadata": {
      "tags": []
     },
     "output_type": "execute_result"
    }
   ],
   "source": [
    "A"
   ]
  },
  {
   "cell_type": "code",
   "execution_count": 0,
   "metadata": {
    "colab": {
     "base_uri": "https://localhost:8080/",
     "height": 51
    },
    "colab_type": "code",
    "id": "qIzVzUWIZOjR",
    "outputId": "b832c1b5-ca2e-4afb-9315-2ca36b8a6e7b"
   },
   "outputs": [
    {
     "name": "stdout",
     "output_type": "stream",
     "text": [
      "(2,) (2,) (2,)\n",
      "[1 2]   [10.         12.22222222]   [11.         14.22222222]\n"
     ]
    }
   ],
   "source": [
    "a=A[0]\n",
    "b=B[0]\n",
    "c=B[0].T\n",
    "print(a.shape, b.shape, c.shape)\n",
    "pp(a, ' ', b, ' ', a+b)"
   ]
  },
  {
   "cell_type": "code",
   "execution_count": 0,
   "metadata": {
    "colab": {
     "base_uri": "https://localhost:8080/",
     "height": 68
    },
    "colab_type": "code",
    "id": "8prE7damd6yH",
    "outputId": "6bdd9348-786b-45d1-c5de-d12b49a5fce4"
   },
   "outputs": [
    {
     "name": "stdout",
     "output_type": "stream",
     "text": [
      "shapes: (1, 2) (1, 2) (2, 1)\n",
      "arrays: [[1 2]]   [[10.        ]    [[11.         12.        ] \n",
      "                   [12.22222222]]    [13.22222222 14.22222222]]\n"
     ]
    }
   ],
   "source": [
    "a=A[0:1]\n",
    "b=B[0:1]\n",
    "c=B[0:1].T\n",
    "pp('shapes:', a.shape, b.shape, c.shape)\n",
    "pp('arrays:', a, ' ', c, ' ', a+c)"
   ]
  },
  {
   "cell_type": "code",
   "execution_count": 0,
   "metadata": {
    "colab": {
     "base_uri": "https://localhost:8080/",
     "height": 85
    },
    "colab_type": "code",
    "id": "ApL6Ez-UeNPo",
    "outputId": "a51207e3-c31b-43ca-cdc5-e3d57a75b122"
   },
   "outputs": [
    {
     "name": "stdout",
     "output_type": "stream",
     "text": [
      "(2,)   (2, 1)   (2, 1)   (1, 2)\n",
      "\n",
      "[1 2]   [[1]    [[1]    [[1 2]]\n",
      "         [2]]    [2]]          \n"
     ]
    }
   ],
   "source": [
    "a = A[0]\n",
    "b = A[0].reshape(-1, 1)\n",
    "c = A[0][:,None] # or [:, numpy.newaxis]\n",
    "d = A[0][None, :] # or [numpy.newaxis, :]\n",
    "pp(a.shape, ' ', b.shape, ' ', c.shape, ' ', d.shape)\n",
    "print()\n",
    "pp(a, ' ', b, ' ', c, ' ', d)"
   ]
  },
  {
   "cell_type": "code",
   "execution_count": 0,
   "metadata": {
    "colab": {},
    "colab_type": "code",
    "id": "D1EN6Oq5en9G"
   },
   "outputs": [],
   "source": []
  }
 ],
 "metadata": {
  "colab": {
   "collapsed_sections": [],
   "name": "Seminar 1 - python & numpy",
   "provenance": [],
   "version": "0.3.2"
  },
  "kernelspec": {
   "display_name": "Python 3",
   "language": "python",
   "name": "python3"
  },
  "language_info": {
   "codemirror_mode": {
    "name": "ipython",
    "version": 3
   },
   "file_extension": ".py",
   "mimetype": "text/x-python",
   "name": "python",
   "nbconvert_exporter": "python",
   "pygments_lexer": "ipython3",
   "version": "3.7.0"
  }
 },
 "nbformat": 4,
 "nbformat_minor": 1
}
